{
 "cells": [
  {
   "attachments": {},
   "cell_type": "markdown",
   "id": "55874ff5",
   "metadata": {},
   "source": [
    "# Abstract\n",
    "\n",
    "The project aims to predict the future values of the stock market index for the Saudi Stock Exchange (TASI) using machine learning. Experiments are performed in 1–10, 15 and 30 days in advance. The project proposed approach involving Support Vector Regression (SVR). The project is based on a paper by Patel et.al. (2015) where he used machine learning techniques to predict two stock market indices CNX Nifty and S&P Bombay stock exchange. The project aims to predict the future values of the stock market index for the Saudi Stock Exchange (TASI) using machine learning. Experiments are performed in 1–10, 15 and 30 days in advance. The project proposed approach involving Support Vector Regression (SVR). The project is based on a paper by Patel et.al. (2015) where he used machine learning techniques to predict two stock market indices CNX Nifty and S&P Bombay stock exchange."
   ]
  },
  {
   "cell_type": "markdown",
   "id": "03162381",
   "metadata": {},
   "source": [
    "# Data\n",
    "\n",
    "The dataset is from bloomberg. Initially, the data will be daily from 2010 until 2021 of TASI index since the Saudi stock market has changed in structure in the past 10 years. Predictor variables are taken from Patel et.al (2015) which are the following:\n",
    "\n",
    "- Simple 10 days moving average.\n",
    "- Weighted 10 days moving average.\n",
    "- Momentum Stochastic K%\n",
    "- Stochastic D%\n",
    "- Relative strength index (RSI)\n",
    "- Moving average convergence divergence (MACD)\n",
    "- A/D (Accumulation/Distribution) oscillator\n",
    "- CCI (commodity channel index)."
   ]
  },
  {
   "cell_type": "code",
   "execution_count": 8,
   "id": "d1c22e85",
   "metadata": {},
   "outputs": [
    {
     "name": "stdout",
     "output_type": "stream",
     "text": [
      "<class 'pandas.core.frame.DataFrame'>\n",
      "RangeIndex: 3113 entries, 0 to 3112\n",
      "Data columns (total 13 columns):\n",
      " #   Column            Non-Null Count  Dtype  \n",
      "---  ------            --------------  -----  \n",
      " 0   Date              3113 non-null   object \n",
      " 1   Close             3113 non-null   float64\n",
      " 2   MA(10C)s          3113 non-null   float64\n",
      " 3   MA(10C)w          3113 non-null   float64\n",
      " 4   %K(141)           3113 non-null   float64\n",
      " 5   %D(3)             3113 non-null   float64\n",
      " 6   RSI(14C)          3113 non-null   float64\n",
      " 7   MACDHist(12269C)  3106 non-null   float64\n",
      " 8   MACD(12269C)      3113 non-null   float64\n",
      " 9   MACDSig(12269C)   3106 non-null   float64\n",
      " 10  AccDist           3113 non-null   float64\n",
      " 11  CCI(20C)          3084 non-null   float64\n",
      " 12  ATR(14)           3113 non-null   float64\n",
      "dtypes: float64(12), object(1)\n",
      "memory usage: 316.3+ KB\n"
     ]
    }
   ],
   "source": [
    "import numpy as np\n",
    "import pandas as pd\n",
    "\n",
    "data = pd.read_csv('/Users/NoNo/Documents/My Documents/Tuwaiq Data Science Course/Project/Tasi10 Years Data with Studies.csv')\n",
    "data.info()"
   ]
  },
  {
   "cell_type": "code",
   "execution_count": 9,
   "id": "324e6ea7",
   "metadata": {},
   "outputs": [
    {
     "data": {
      "text/html": [
       "<div>\n",
       "<style scoped>\n",
       "    .dataframe tbody tr th:only-of-type {\n",
       "        vertical-align: middle;\n",
       "    }\n",
       "\n",
       "    .dataframe tbody tr th {\n",
       "        vertical-align: top;\n",
       "    }\n",
       "\n",
       "    .dataframe thead th {\n",
       "        text-align: right;\n",
       "    }\n",
       "</style>\n",
       "<table border=\"1\" class=\"dataframe\">\n",
       "  <thead>\n",
       "    <tr style=\"text-align: right;\">\n",
       "      <th></th>\n",
       "      <th>Date</th>\n",
       "      <th>Close</th>\n",
       "      <th>MA(10C)s</th>\n",
       "      <th>MA(10C)w</th>\n",
       "      <th>%K(141)</th>\n",
       "      <th>%D(3)</th>\n",
       "      <th>RSI(14C)</th>\n",
       "      <th>MACDHist(12269C)</th>\n",
       "      <th>MACD(12269C)</th>\n",
       "      <th>MACDSig(12269C)</th>\n",
       "      <th>AccDist</th>\n",
       "      <th>CCI(20C)</th>\n",
       "      <th>ATR(14)</th>\n",
       "    </tr>\n",
       "  </thead>\n",
       "  <tbody>\n",
       "    <tr>\n",
       "      <th>0</th>\n",
       "      <td>11/08/2021</td>\n",
       "      <td>11846.53</td>\n",
       "      <td>11771.853</td>\n",
       "      <td>11773.453</td>\n",
       "      <td>66.916</td>\n",
       "      <td>56.816</td>\n",
       "      <td>61.821</td>\n",
       "      <td>-17.682</td>\n",
       "      <td>70.861</td>\n",
       "      <td>88.543</td>\n",
       "      <td>1.090000e+11</td>\n",
       "      <td>64.378</td>\n",
       "      <td>99.998</td>\n",
       "    </tr>\n",
       "    <tr>\n",
       "      <th>1</th>\n",
       "      <td>11/07/2021</td>\n",
       "      <td>11841.60</td>\n",
       "      <td>11776.184</td>\n",
       "      <td>11760.663</td>\n",
       "      <td>65.410</td>\n",
       "      <td>40.442</td>\n",
       "      <td>61.540</td>\n",
       "      <td>-26.343</td>\n",
       "      <td>69.242</td>\n",
       "      <td>95.585</td>\n",
       "      <td>1.090000e+11</td>\n",
       "      <td>67.781</td>\n",
       "      <td>98.587</td>\n",
       "    </tr>\n",
       "    <tr>\n",
       "      <th>2</th>\n",
       "      <td>11/04/2021</td>\n",
       "      <td>11752.23</td>\n",
       "      <td>11776.829</td>\n",
       "      <td>11748.886</td>\n",
       "      <td>38.122</td>\n",
       "      <td>30.711</td>\n",
       "      <td>56.105</td>\n",
       "      <td>-36.510</td>\n",
       "      <td>66.671</td>\n",
       "      <td>103.182</td>\n",
       "      <td>1.080000e+11</td>\n",
       "      <td>6.110</td>\n",
       "      <td>99.167</td>\n",
       "    </tr>\n",
       "    <tr>\n",
       "      <th>3</th>\n",
       "      <td>11/03/2021</td>\n",
       "      <td>11685.66</td>\n",
       "      <td>11795.564</td>\n",
       "      <td>11756.765</td>\n",
       "      <td>17.795</td>\n",
       "      <td>33.057</td>\n",
       "      <td>51.350</td>\n",
       "      <td>-39.311</td>\n",
       "      <td>71.519</td>\n",
       "      <td>110.831</td>\n",
       "      <td>1.080000e+11</td>\n",
       "      <td>-34.421</td>\n",
       "      <td>97.881</td>\n",
       "    </tr>\n",
       "    <tr>\n",
       "      <th>4</th>\n",
       "      <td>11/02/2021</td>\n",
       "      <td>11752.12</td>\n",
       "      <td>11817.372</td>\n",
       "      <td>11780.713</td>\n",
       "      <td>36.216</td>\n",
       "      <td>42.636</td>\n",
       "      <td>57.083</td>\n",
       "      <td>-34.453</td>\n",
       "      <td>83.444</td>\n",
       "      <td>117.898</td>\n",
       "      <td>1.080000e+11</td>\n",
       "      <td>14.025</td>\n",
       "      <td>95.314</td>\n",
       "    </tr>\n",
       "  </tbody>\n",
       "</table>\n",
       "</div>"
      ],
      "text/plain": [
       "         Date     Close   MA(10C)s   MA(10C)w  %K(141)   %D(3)  RSI(14C)  \\\n",
       "0  11/08/2021  11846.53  11771.853  11773.453   66.916  56.816    61.821   \n",
       "1  11/07/2021  11841.60  11776.184  11760.663   65.410  40.442    61.540   \n",
       "2  11/04/2021  11752.23  11776.829  11748.886   38.122  30.711    56.105   \n",
       "3  11/03/2021  11685.66  11795.564  11756.765   17.795  33.057    51.350   \n",
       "4  11/02/2021  11752.12  11817.372  11780.713   36.216  42.636    57.083   \n",
       "\n",
       "   MACDHist(12269C)  MACD(12269C)  MACDSig(12269C)       AccDist  CCI(20C)  \\\n",
       "0           -17.682        70.861           88.543  1.090000e+11    64.378   \n",
       "1           -26.343        69.242           95.585  1.090000e+11    67.781   \n",
       "2           -36.510        66.671          103.182  1.080000e+11     6.110   \n",
       "3           -39.311        71.519          110.831  1.080000e+11   -34.421   \n",
       "4           -34.453        83.444          117.898  1.080000e+11    14.025   \n",
       "\n",
       "   ATR(14)  \n",
       "0   99.998  \n",
       "1   98.587  \n",
       "2   99.167  \n",
       "3   97.881  \n",
       "4   95.314  "
      ]
     },
     "execution_count": 9,
     "metadata": {},
     "output_type": "execute_result"
    }
   ],
   "source": [
    "data.head()"
   ]
  },
  {
   "cell_type": "code",
   "execution_count": 10,
   "id": "8baf009b",
   "metadata": {},
   "outputs": [
    {
     "data": {
      "text/plain": [
       "(3113, 13)"
      ]
     },
     "execution_count": 10,
     "metadata": {},
     "output_type": "execute_result"
    }
   ],
   "source": [
    "data.shape"
   ]
  },
  {
   "cell_type": "code",
   "execution_count": null,
   "id": "19d2890e",
   "metadata": {},
   "outputs": [],
   "source": []
  }
 ],
 "metadata": {
  "kernelspec": {
   "display_name": "Python 3",
   "language": "python",
   "name": "python3"
  },
  "language_info": {
   "codemirror_mode": {
    "name": "ipython",
    "version": 3
   },
   "file_extension": ".py",
   "mimetype": "text/x-python",
   "name": "python",
   "nbconvert_exporter": "python",
   "pygments_lexer": "ipython3",
   "version": "3.8.8"
  }
 },
 "nbformat": 4,
 "nbformat_minor": 5
}
